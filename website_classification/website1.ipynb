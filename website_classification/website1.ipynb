{
 "cells": [
  {
   "cell_type": "markdown",
   "id": "8c57103b",
   "metadata": {},
   "source": [
    "# 웹사이트 카테고리 분류\n",
    "* 목표 : 시각화 및 NLP 등 여러가지 기법을 사용해서 디테일한 카테고리 분류\n",
    "## 왜 함?\n",
    "* 웹 사이트 이용자들의 혼동을 줄여 이용자들의 편의 증가\n",
    "* 각 카테고리 별 새로운 웹 사이트 모둠 개발 가능\n",
    "* 오분류 제거\n",
    "## 지표\n",
    "- F1 - SCORE 로 확인 하겠음.\n",
    "-------"
   ]
  },
  {
   "cell_type": "markdown",
   "id": "fb224bad",
   "metadata": {},
   "source": [
    "### 라이브러리"
   ]
  },
  {
   "cell_type": "code",
   "execution_count": 34,
   "id": "29229c80",
   "metadata": {},
   "outputs": [],
   "source": [
    "from pathlib import Path\n",
    "import pandas as pd\n",
    "import tarfile\n",
    "import urllib.request"
   ]
  },
  {
   "cell_type": "markdown",
   "id": "f38d4717",
   "metadata": {},
   "source": [
    "### 데이터셋 확인"
   ]
  },
  {
   "cell_type": "code",
   "execution_count": 35,
   "id": "ef52324a",
   "metadata": {
    "scrolled": true
   },
   "outputs": [
    {
     "data": {
      "text/html": [
       "<div>\n",
       "<style scoped>\n",
       "    .dataframe tbody tr th:only-of-type {\n",
       "        vertical-align: middle;\n",
       "    }\n",
       "\n",
       "    .dataframe tbody tr th {\n",
       "        vertical-align: top;\n",
       "    }\n",
       "\n",
       "    .dataframe thead th {\n",
       "        text-align: right;\n",
       "    }\n",
       "</style>\n",
       "<table border=\"1\" class=\"dataframe\">\n",
       "  <thead>\n",
       "    <tr style=\"text-align: right;\">\n",
       "      <th></th>\n",
       "      <th>Unnamed: 0</th>\n",
       "      <th>website_url</th>\n",
       "      <th>cleaned_website_text</th>\n",
       "      <th>Category</th>\n",
       "    </tr>\n",
       "  </thead>\n",
       "  <tbody>\n",
       "    <tr>\n",
       "      <th>0</th>\n",
       "      <td>0</td>\n",
       "      <td>https://www.booking.com/index.html?aid=1743217</td>\n",
       "      <td>official site good hotel accommodation big sav...</td>\n",
       "      <td>Travel</td>\n",
       "    </tr>\n",
       "    <tr>\n",
       "      <th>1</th>\n",
       "      <td>1</td>\n",
       "      <td>https://travelsites.com/expedia/</td>\n",
       "      <td>expedia hotel book sites like use vacation wor...</td>\n",
       "      <td>Travel</td>\n",
       "    </tr>\n",
       "    <tr>\n",
       "      <th>2</th>\n",
       "      <td>2</td>\n",
       "      <td>https://travelsites.com/tripadvisor/</td>\n",
       "      <td>tripadvisor hotel book sites like previously d...</td>\n",
       "      <td>Travel</td>\n",
       "    </tr>\n",
       "    <tr>\n",
       "      <th>3</th>\n",
       "      <td>3</td>\n",
       "      <td>https://www.momondo.in/?ispredir=true</td>\n",
       "      <td>cheap flights search compare flights momondo f...</td>\n",
       "      <td>Travel</td>\n",
       "    </tr>\n",
       "    <tr>\n",
       "      <th>4</th>\n",
       "      <td>4</td>\n",
       "      <td>https://www.ebookers.com/?AFFCID=EBOOKERS-UK.n...</td>\n",
       "      <td>bot create free account create free account si...</td>\n",
       "      <td>Travel</td>\n",
       "    </tr>\n",
       "  </tbody>\n",
       "</table>\n",
       "</div>"
      ],
      "text/plain": [
       "   Unnamed: 0                                        website_url  \\\n",
       "0           0     https://www.booking.com/index.html?aid=1743217   \n",
       "1           1                   https://travelsites.com/expedia/   \n",
       "2           2               https://travelsites.com/tripadvisor/   \n",
       "3           3              https://www.momondo.in/?ispredir=true   \n",
       "4           4  https://www.ebookers.com/?AFFCID=EBOOKERS-UK.n...   \n",
       "\n",
       "                                cleaned_website_text Category  \n",
       "0  official site good hotel accommodation big sav...   Travel  \n",
       "1  expedia hotel book sites like use vacation wor...   Travel  \n",
       "2  tripadvisor hotel book sites like previously d...   Travel  \n",
       "3  cheap flights search compare flights momondo f...   Travel  \n",
       "4  bot create free account create free account si...   Travel  "
      ]
     },
     "execution_count": 35,
     "metadata": {},
     "output_type": "execute_result"
    }
   ],
   "source": [
    "def load_website_data():\n",
    "    return pd.read_csv(Path('./datasets/website_classification.csv'))\n",
    "\n",
    "website_df = load_website_data()\n",
    "\n",
    "website_df.head()"
   ]
  },
  {
   "cell_type": "code",
   "execution_count": 36,
   "id": "fb09c817",
   "metadata": {
    "scrolled": false
   },
   "outputs": [
    {
     "name": "stdout",
     "output_type": "stream",
     "text": [
      "<class 'pandas.core.frame.DataFrame'>\n",
      "RangeIndex: 1408 entries, 0 to 1407\n",
      "Data columns (total 4 columns):\n",
      " #   Column                Non-Null Count  Dtype \n",
      "---  ------                --------------  ----- \n",
      " 0   Unnamed: 0            1408 non-null   int64 \n",
      " 1   website_url           1408 non-null   object\n",
      " 2   cleaned_website_text  1408 non-null   object\n",
      " 3   Category              1408 non-null   object\n",
      "dtypes: int64(1), object(3)\n",
      "memory usage: 44.1+ KB\n"
     ]
    }
   ],
   "source": [
    "website_df.info()"
   ]
  },
  {
   "cell_type": "markdown",
   "id": "a01cc3a0",
   "metadata": {},
   "source": [
    "### 카테고리 종류 확인"
   ]
  },
  {
   "cell_type": "code",
   "execution_count": 37,
   "id": "074a153d",
   "metadata": {},
   "outputs": [
    {
     "data": {
      "text/plain": [
       "Education                          114\n",
       "Business/Corporate                 109\n",
       "Travel                             107\n",
       "Streaming Services                 105\n",
       "Sports                             104\n",
       "E-Commerce                         102\n",
       "Games                               98\n",
       "News                                96\n",
       "Health and Fitness                  96\n",
       "Photography                         93\n",
       "Computers and Technology            93\n",
       "Food                                92\n",
       "Law and Government                  84\n",
       "Social Networking and Messaging     83\n",
       "Forums                              16\n",
       "Adult                               16\n",
       "Name: Category, dtype: int64"
      ]
     },
     "execution_count": 37,
     "metadata": {},
     "output_type": "execute_result"
    }
   ],
   "source": [
    "website_df['Category'].value_counts()"
   ]
  },
  {
   "cell_type": "markdown",
   "id": "eec43af4",
   "metadata": {},
   "source": [
    "### URL 에 www. (    .. ) .com 사이의 데이터 추출해서 카테고리와 연관성 확인"
   ]
  },
  {
   "cell_type": "code",
   "execution_count": 38,
   "id": "bc4de5d4",
   "metadata": {
    "scrolled": false
   },
   "outputs": [
    {
     "data": {
      "text/plain": [
       "0       https://www.booking.com/index.html?aid=1743217\n",
       "1                     https://travelsites.com/expedia/\n",
       "2                 https://travelsites.com/tripadvisor/\n",
       "3                https://www.momondo.in/?ispredir=true\n",
       "4    https://www.ebookers.com/?AFFCID=EBOOKERS-UK.n...\n",
       "Name: website_url, dtype: object"
      ]
     },
     "execution_count": 38,
     "metadata": {},
     "output_type": "execute_result"
    }
   ],
   "source": [
    "website_df['website_url'].head()"
   ]
  },
  {
   "cell_type": "markdown",
   "id": "77344e1f",
   "metadata": {},
   "source": [
    "### https:// , http://, www 있거나 없거나\n",
    "* 도메인만 추출"
   ]
  },
  {
   "cell_type": "code",
   "execution_count": 39,
   "id": "2e8960f3",
   "metadata": {},
   "outputs": [],
   "source": [
    "from urllib.parse import urlparse"
   ]
  },
  {
   "cell_type": "code",
   "execution_count": 40,
   "id": "2bfb84b1",
   "metadata": {
    "scrolled": false
   },
   "outputs": [
    {
     "data": {
      "text/plain": [
       "0     www.booking.com\n",
       "1     travelsites.com\n",
       "2     travelsites.com\n",
       "3      www.momondo.in\n",
       "4    www.ebookers.com\n",
       "Name: website_url, dtype: object"
      ]
     },
     "execution_count": 40,
     "metadata": {},
     "output_type": "execute_result"
    }
   ],
   "source": [
    "url_split = website_df['website_url'].apply(lambda url: \n",
    "                                             \"{uri.netloc}\".format(uri=urlparse(url)))\n",
    "\n",
    "url_split.head()"
   ]
  },
  {
   "cell_type": "markdown",
   "id": "171d31aa",
   "metadata": {},
   "source": [
    "### domain 필요 없는 부분 제거"
   ]
  },
  {
   "cell_type": "code",
   "execution_count": 41,
   "id": "7286c5fb",
   "metadata": {},
   "outputs": [
    {
     "name": "stderr",
     "output_type": "stream",
     "text": [
      "C:\\Users\\hmins\\AppData\\Local\\Temp\\ipykernel_18552\\615283673.py:1: FutureWarning: The default value of regex will change from True to False in a future version.\n",
      "  url_split = url_split.str.replace('www.', '')\n"
     ]
    },
    {
     "data": {
      "text/plain": [
       "0        booking.com\n",
       "1    travelsites.com\n",
       "2    travelsites.com\n",
       "3         momondo.in\n",
       "4       ebookers.com\n",
       "Name: website_url, dtype: object"
      ]
     },
     "execution_count": 41,
     "metadata": {},
     "output_type": "execute_result"
    }
   ],
   "source": [
    "url_split = url_split.str.replace('www.', '')\n",
    "\n",
    "url_split.head()"
   ]
  },
  {
   "cell_type": "code",
   "execution_count": 42,
   "id": "b188ed4c",
   "metadata": {},
   "outputs": [
    {
     "name": "stderr",
     "output_type": "stream",
     "text": [
      "C:\\Users\\hmins\\AppData\\Local\\Temp\\ipykernel_18552\\4181654605.py:1: FutureWarning: The default value of regex will change from True to False in a future version.\n",
      "  url_split2 = url_split.str.replace('.com', '')\n"
     ]
    },
    {
     "data": {
      "text/plain": [
       "0        booking\n",
       "1    travelsites\n",
       "2    travelsites\n",
       "3     momondo.in\n",
       "4       ebookers\n",
       "Name: website_url, dtype: object"
      ]
     },
     "execution_count": 42,
     "metadata": {},
     "output_type": "execute_result"
    }
   ],
   "source": [
    "url_split2 = url_split.str.replace('.com', '')\n",
    "url_split2.head()"
   ]
  },
  {
   "cell_type": "code",
   "execution_count": 43,
   "id": "50c744c8",
   "metadata": {
    "scrolled": false
   },
   "outputs": [
    {
     "name": "stderr",
     "output_type": "stream",
     "text": [
      "C:\\Users\\hmins\\AppData\\Local\\Temp\\ipykernel_18552\\1352416528.py:1: FutureWarning: The default value of regex will change from True to False in a future version.\n",
      "  url_split3 = url_split2.str.replace('.org', '')\n"
     ]
    },
    {
     "data": {
      "text/plain": [
       "0        booking\n",
       "1    travelsites\n",
       "2    travelsites\n",
       "3     momondo.in\n",
       "4       ebookers\n",
       "Name: website_url, dtype: object"
      ]
     },
     "execution_count": 43,
     "metadata": {},
     "output_type": "execute_result"
    }
   ],
   "source": [
    "url_split3 = url_split2.str.replace('.org', '')\n",
    "url_split3.head()"
   ]
  },
  {
   "cell_type": "code",
   "execution_count": 44,
   "id": "0da04fe0",
   "metadata": {},
   "outputs": [
    {
     "data": {
      "text/plain": [
       "Index(['Unnamed: 0', 'website_url', 'cleaned_website_text', 'Category'], dtype='object')"
      ]
     },
     "execution_count": 44,
     "metadata": {},
     "output_type": "execute_result"
    }
   ],
   "source": [
    "website_df.columns"
   ]
  },
  {
   "cell_type": "code",
   "execution_count": 45,
   "id": "781a4416",
   "metadata": {
    "scrolled": false
   },
   "outputs": [
    {
     "data": {
      "text/html": [
       "<div>\n",
       "<style scoped>\n",
       "    .dataframe tbody tr th:only-of-type {\n",
       "        vertical-align: middle;\n",
       "    }\n",
       "\n",
       "    .dataframe tbody tr th {\n",
       "        vertical-align: top;\n",
       "    }\n",
       "\n",
       "    .dataframe thead th {\n",
       "        text-align: right;\n",
       "    }\n",
       "</style>\n",
       "<table border=\"1\" class=\"dataframe\">\n",
       "  <thead>\n",
       "    <tr style=\"text-align: right;\">\n",
       "      <th></th>\n",
       "      <th>Domain</th>\n",
       "      <th>cleaned_website_text</th>\n",
       "      <th>Category</th>\n",
       "    </tr>\n",
       "  </thead>\n",
       "  <tbody>\n",
       "    <tr>\n",
       "      <th>0</th>\n",
       "      <td>booking</td>\n",
       "      <td>official site good hotel accommodation big sav...</td>\n",
       "      <td>Travel</td>\n",
       "    </tr>\n",
       "    <tr>\n",
       "      <th>1</th>\n",
       "      <td>travelsites</td>\n",
       "      <td>expedia hotel book sites like use vacation wor...</td>\n",
       "      <td>Travel</td>\n",
       "    </tr>\n",
       "    <tr>\n",
       "      <th>2</th>\n",
       "      <td>travelsites</td>\n",
       "      <td>tripadvisor hotel book sites like previously d...</td>\n",
       "      <td>Travel</td>\n",
       "    </tr>\n",
       "    <tr>\n",
       "      <th>3</th>\n",
       "      <td>momondo.in</td>\n",
       "      <td>cheap flights search compare flights momondo f...</td>\n",
       "      <td>Travel</td>\n",
       "    </tr>\n",
       "    <tr>\n",
       "      <th>4</th>\n",
       "      <td>ebookers</td>\n",
       "      <td>bot create free account create free account si...</td>\n",
       "      <td>Travel</td>\n",
       "    </tr>\n",
       "  </tbody>\n",
       "</table>\n",
       "</div>"
      ],
      "text/plain": [
       "        Domain                               cleaned_website_text Category\n",
       "0      booking  official site good hotel accommodation big sav...   Travel\n",
       "1  travelsites  expedia hotel book sites like use vacation wor...   Travel\n",
       "2  travelsites  tripadvisor hotel book sites like previously d...   Travel\n",
       "3   momondo.in  cheap flights search compare flights momondo f...   Travel\n",
       "4     ebookers  bot create free account create free account si...   Travel"
      ]
     },
     "execution_count": 45,
     "metadata": {},
     "output_type": "execute_result"
    }
   ],
   "source": [
    "website_df.insert(0, 'Domain', url_split3)\n",
    "website_df.drop(['Unnamed: 0', 'website_url'], axis=1, inplace=True)\n",
    "website_df.head()"
   ]
  },
  {
   "cell_type": "markdown",
   "id": "2898ba27",
   "metadata": {},
   "source": [
    "### 글자 유사도 ( 도메인과 클라스 유사도 )"
   ]
  },
  {
   "cell_type": "code",
   "execution_count": 46,
   "id": "72d93065",
   "metadata": {},
   "outputs": [
    {
     "data": {
      "text/plain": [
       "['0.25', '0.2', '0.2', '0.21052631578947367', '0.23529411764705882']"
      ]
     },
     "execution_count": 46,
     "metadata": {},
     "output_type": "execute_result"
    }
   ],
   "source": [
    "# 교육\n",
    "\n",
    "import difflib\n",
    "\n",
    "to_match = 'education'\n",
    "candidates = website_df['Domain']\n",
    "\n",
    "similarity_education = []\n",
    "for word in candidates:\n",
    "    sim_score = str(difflib.SequenceMatcher(None, to_match, word).ratio())\n",
    "    similarity_education.append(sim_score)\n",
    "\n",
    "similarity_education[0:5]"
   ]
  },
  {
   "cell_type": "code",
   "execution_count": 47,
   "id": "3bea53e0",
   "metadata": {},
   "outputs": [
    {
     "data": {
      "text/plain": [
       "['0.4',\n",
       " '0.42105263157894735',\n",
       " '0.42105263157894735',\n",
       " '0.2222222222222222',\n",
       " '0.25']"
      ]
     },
     "execution_count": 47,
     "metadata": {},
     "output_type": "execute_result"
    }
   ],
   "source": [
    "# 사업\n",
    "\n",
    "import difflib\n",
    "\n",
    "to_match = 'business'\n",
    "candidates = website_df['Domain']\n",
    "\n",
    "similarity_business = []\n",
    "for word in candidates:\n",
    "    sim_score = str(difflib.SequenceMatcher(None, to_match, word).ratio())\n",
    "    similarity_business.append(sim_score)\n",
    "\n",
    "similarity_business[0:5]"
   ]
  },
  {
   "cell_type": "code",
   "execution_count": 48,
   "id": "8feb3a00",
   "metadata": {},
   "outputs": [
    {
     "data": {
      "text/plain": [
       "['0.25', '0.4', '0.4', '0.21052631578947367', '0.23529411764705882']"
      ]
     },
     "execution_count": 48,
     "metadata": {},
     "output_type": "execute_result"
    }
   ],
   "source": [
    "# 기업\n",
    "\n",
    "import difflib\n",
    "\n",
    "to_match = 'corporate'\n",
    "candidates = website_df['Domain']\n",
    "\n",
    "similarity_corporate = []\n",
    "for word in candidates:\n",
    "    sim_score = str(difflib.SequenceMatcher(None, to_match, word).ratio())\n",
    "    similarity_corporate.append(sim_score)\n",
    "\n",
    "similarity_corporate[0:5]"
   ]
  },
  {
   "cell_type": "code",
   "execution_count": 49,
   "id": "2229abe1",
   "metadata": {},
   "outputs": [
    {
     "data": {
      "text/plain": [
       "['0.0',\n",
       " '0.7058823529411765',\n",
       " '0.7058823529411765',\n",
       " '0.0',\n",
       " '0.14285714285714285']"
      ]
     },
     "execution_count": 49,
     "metadata": {},
     "output_type": "execute_result"
    }
   ],
   "source": [
    "# 여행\n",
    "\n",
    "import difflib\n",
    "\n",
    "to_match = 'travel'\n",
    "candidates = website_df['Domain']\n",
    "\n",
    "similarity_travel = []\n",
    "for word in candidates:\n",
    "    sim_score = str(difflib.SequenceMatcher(None, to_match, word).ratio())\n",
    "    similarity_travel.append(sim_score)\n",
    "\n",
    "similarity_travel[0:5]"
   ]
  },
  {
   "cell_type": "code",
   "execution_count": 50,
   "id": "22fbfb9f",
   "metadata": {},
   "outputs": [
    {
     "data": {
      "text/plain": [
       "['0.16666666666666666',\n",
       " '0.25',\n",
       " '0.25',\n",
       " '0.13333333333333333',\n",
       " '0.15384615384615385']"
      ]
     },
     "execution_count": 50,
     "metadata": {},
     "output_type": "execute_result"
    }
   ],
   "source": [
    "# 운동\n",
    "\n",
    "import difflib\n",
    "\n",
    "to_match = 'sport'\n",
    "candidates = website_df['Domain']\n",
    "\n",
    "similarity_sports = []\n",
    "for word in candidates:\n",
    "    sim_score = str(difflib.SequenceMatcher(None, to_match, word).ratio())\n",
    "    similarity_sports.append(sim_score)\n",
    "\n",
    "similarity_sports[0:5]"
   ]
  },
  {
   "cell_type": "code",
   "execution_count": 51,
   "id": "0075928a",
   "metadata": {},
   "outputs": [
    {
     "data": {
      "text/plain": [
       "['0.18181818181818182',\n",
       " '0.26666666666666666',\n",
       " '0.26666666666666666',\n",
       " '0.14285714285714285',\n",
       " '0.16666666666666666']"
      ]
     },
     "execution_count": 51,
     "metadata": {},
     "output_type": "execute_result"
    }
   ],
   "source": [
    "# 게임\n",
    "\n",
    "import difflib\n",
    "\n",
    "to_match = 'game'\n",
    "candidates = website_df['Domain']\n",
    "\n",
    "similarity_games = []\n",
    "for word in candidates:\n",
    "    sim_score = str(difflib.SequenceMatcher(None, to_match, word).ratio())\n",
    "    similarity_games.append(sim_score)\n",
    "\n",
    "similarity_games[0:5]"
   ]
  },
  {
   "cell_type": "code",
   "execution_count": 52,
   "id": "eedb87c4",
   "metadata": {},
   "outputs": [
    {
     "data": {
      "text/plain": [
       "['0.18181818181818182',\n",
       " '0.26666666666666666',\n",
       " '0.26666666666666666',\n",
       " '0.14285714285714285',\n",
       " '0.3333333333333333']"
      ]
     },
     "execution_count": 52,
     "metadata": {},
     "output_type": "execute_result"
    }
   ],
   "source": [
    "# 뉴스\n",
    "\n",
    "import difflib\n",
    "\n",
    "to_match = 'news'\n",
    "candidates = website_df['Domain']\n",
    "\n",
    "similarity_news = []\n",
    "for word in candidates:\n",
    "    sim_score = str(difflib.SequenceMatcher(None, to_match, word).ratio())\n",
    "    similarity_news.append(sim_score)\n",
    "\n",
    "similarity_news[0:5]"
   ]
  },
  {
   "cell_type": "code",
   "execution_count": 53,
   "id": "01a14fc4",
   "metadata": {},
   "outputs": [
    {
     "data": {
      "text/plain": [
       "['0.0',\n",
       " '0.35294117647058826',\n",
       " '0.35294117647058826',\n",
       " '0.0',\n",
       " '0.14285714285714285']"
      ]
     },
     "execution_count": 53,
     "metadata": {},
     "output_type": "execute_result"
    }
   ],
   "source": [
    "# 건강\n",
    "\n",
    "import difflib\n",
    "\n",
    "to_match = 'health'\n",
    "candidates = website_df['Domain']\n",
    "\n",
    "similarity_health = []\n",
    "for word in candidates:\n",
    "    sim_score = str(difflib.SequenceMatcher(None, to_match, word).ratio())\n",
    "    similarity_health.append(sim_score)\n",
    "\n",
    "similarity_health[0:5]"
   ]
  },
  {
   "cell_type": "code",
   "execution_count": 54,
   "id": "f3ff48da",
   "metadata": {},
   "outputs": [
    {
     "data": {
      "text/plain": [
       "['0.2857142857142857',\n",
       " '0.4444444444444444',\n",
       " '0.4444444444444444',\n",
       " '0.23529411764705882',\n",
       " '0.26666666666666666']"
      ]
     },
     "execution_count": 54,
     "metadata": {},
     "output_type": "execute_result"
    }
   ],
   "source": [
    "# 피트니스\n",
    "\n",
    "import difflib\n",
    "\n",
    "to_match = 'fitness'\n",
    "candidates = website_df['Domain']\n",
    "\n",
    "similarity_fitness = []\n",
    "for word in candidates:\n",
    "    sim_score = str(difflib.SequenceMatcher(None, to_match, word).ratio())\n",
    "    similarity_fitness.append(sim_score)\n",
    "\n",
    "similarity_fitness[0:5]"
   ]
  },
  {
   "cell_type": "code",
   "execution_count": 55,
   "id": "2c1799d5",
   "metadata": {},
   "outputs": [
    {
     "data": {
      "text/plain": [
       "['0.13333333333333333',\n",
       " '0.21052631578947367',\n",
       " '0.21052631578947367',\n",
       " '0.2222222222222222',\n",
       " '0.375']"
      ]
     },
     "execution_count": 55,
     "metadata": {},
     "output_type": "execute_result"
    }
   ],
   "source": [
    "# 판매\n",
    "\n",
    "import difflib\n",
    "\n",
    "to_match = 'commerce'\n",
    "candidates = website_df['Domain']\n",
    "\n",
    "similarity_commerce = []\n",
    "for word in candidates:\n",
    "    sim_score = str(difflib.SequenceMatcher(None, to_match, word).ratio())\n",
    "    similarity_commerce.append(sim_score)\n",
    "\n",
    "similarity_commerce[0:5]"
   ]
  },
  {
   "cell_type": "code",
   "execution_count": 56,
   "id": "d48bbd49",
   "metadata": {},
   "outputs": [
    {
     "data": {
      "text/plain": [
       "['0.3333333333333333',\n",
       " '0.125',\n",
       " '0.125',\n",
       " '0.26666666666666666',\n",
       " '0.3076923076923077']"
      ]
     },
     "execution_count": 56,
     "metadata": {},
     "output_type": "execute_result"
    }
   ],
   "source": [
    "# 사진\n",
    "\n",
    "import difflib\n",
    "\n",
    "to_match = 'photo'\n",
    "candidates = website_df['Domain']\n",
    "\n",
    "similarity_photo = []\n",
    "for word in candidates:\n",
    "    sim_score = str(difflib.SequenceMatcher(None, to_match, word).ratio())\n",
    "    similarity_photo.append(sim_score)\n",
    "\n",
    "similarity_photo[0:5]"
   ]
  },
  {
   "cell_type": "code",
   "execution_count": 57,
   "id": "d70c2ed3",
   "metadata": {},
   "outputs": [
    {
     "data": {
      "text/plain": [
       "['0.13333333333333333',\n",
       " '0.21052631578947367',\n",
       " '0.21052631578947367',\n",
       " '0.2222222222222222',\n",
       " '0.375']"
      ]
     },
     "execution_count": 57,
     "metadata": {},
     "output_type": "execute_result"
    }
   ],
   "source": [
    "# 컴퓨터\n",
    "\n",
    "import difflib\n",
    "\n",
    "to_match = 'computer'\n",
    "candidates = website_df['Domain']\n",
    "\n",
    "similarity_computer = []\n",
    "for word in candidates:\n",
    "    sim_score = str(difflib.SequenceMatcher(None, to_match, word).ratio())\n",
    "    similarity_computer.append(sim_score)\n",
    "\n",
    "similarity_computer[0:5]"
   ]
  },
  {
   "cell_type": "code",
   "execution_count": 58,
   "id": "7068555f",
   "metadata": {},
   "outputs": [
    {
     "data": {
      "text/plain": [
       "['0.0',\n",
       " '0.26666666666666666',\n",
       " '0.26666666666666666',\n",
       " '0.0',\n",
       " '0.16666666666666666']"
      ]
     },
     "execution_count": 58,
     "metadata": {},
     "output_type": "execute_result"
    }
   ],
   "source": [
    "# 기술\n",
    "\n",
    "import difflib\n",
    "\n",
    "to_match = 'tech'\n",
    "candidates = website_df['Domain']\n",
    "\n",
    "similarity_tech = []\n",
    "for word in candidates:\n",
    "    sim_score = str(difflib.SequenceMatcher(None, to_match, word).ratio())\n",
    "    similarity_tech.append(sim_score)\n",
    "\n",
    "similarity_tech[0:5]"
   ]
  },
  {
   "cell_type": "code",
   "execution_count": 59,
   "id": "ac0d4d34",
   "metadata": {},
   "outputs": [
    {
     "data": {
      "text/plain": [
       "['0.36363636363636365',\n",
       " '0.0',\n",
       " '0.0',\n",
       " '0.42857142857142855',\n",
       " '0.3333333333333333']"
      ]
     },
     "execution_count": 59,
     "metadata": {},
     "output_type": "execute_result"
    }
   ],
   "source": [
    "# 음식\n",
    "\n",
    "import difflib\n",
    "\n",
    "to_match = 'food'\n",
    "candidates = website_df['Domain']\n",
    "\n",
    "similarity_food = []\n",
    "for word in candidates:\n",
    "    sim_score = str(difflib.SequenceMatcher(None, to_match, word).ratio())\n",
    "    similarity_food.append(sim_score)\n",
    "\n",
    "similarity_food[0:5]"
   ]
  },
  {
   "cell_type": "code",
   "execution_count": 60,
   "id": "b5ce77be",
   "metadata": {},
   "outputs": [
    {
     "data": {
      "text/plain": [
       "['0.0', '0.14285714285714285', '0.14285714285714285', '0.0', '0.0']"
      ]
     },
     "execution_count": 60,
     "metadata": {},
     "output_type": "execute_result"
    }
   ],
   "source": [
    "# 법\n",
    "\n",
    "import difflib\n",
    "\n",
    "to_match = 'law'\n",
    "candidates = website_df['Domain']\n",
    "\n",
    "similarity_law = []\n",
    "for word in candidates:\n",
    "    sim_score = str(difflib.SequenceMatcher(None, to_match, word).ratio())\n",
    "    similarity_law.append(sim_score)\n",
    "\n",
    "similarity_law[0:5]"
   ]
  },
  {
   "cell_type": "code",
   "execution_count": 61,
   "id": "28afe572",
   "metadata": {},
   "outputs": [
    {
     "data": {
      "text/plain": [
       "['0.11764705882352941',\n",
       " '0.2857142857142857',\n",
       " '0.2857142857142857',\n",
       " '0.3',\n",
       " '0.3333333333333333']"
      ]
     },
     "execution_count": 61,
     "metadata": {},
     "output_type": "execute_result"
    }
   ],
   "source": [
    "# 기관\n",
    "\n",
    "import difflib\n",
    "\n",
    "to_match = 'government'\n",
    "candidates = website_df['Domain']\n",
    "\n",
    "similarity_government = []\n",
    "for word in candidates:\n",
    "    sim_score = str(difflib.SequenceMatcher(None, to_match, word).ratio())\n",
    "    similarity_government.append(sim_score)\n",
    "\n",
    "similarity_government[0:5]"
   ]
  },
  {
   "cell_type": "code",
   "execution_count": 62,
   "id": "7c5d0db5",
   "metadata": {},
   "outputs": [
    {
     "data": {
      "text/plain": [
       "['0.14285714285714285',\n",
       " '0.2222222222222222',\n",
       " '0.2222222222222222',\n",
       " '0.11764705882352941',\n",
       " '0.26666666666666666']"
      ]
     },
     "execution_count": 62,
     "metadata": {},
     "output_type": "execute_result"
    }
   ],
   "source": [
    "# 메세지, 채팅\n",
    "\n",
    "import difflib\n",
    "\n",
    "to_match = 'message'\n",
    "candidates = website_df['Domain']\n",
    "\n",
    "similarity_message = []\n",
    "for word in candidates:\n",
    "    sim_score = str(difflib.SequenceMatcher(None, to_match, word).ratio())\n",
    "    similarity_message.append(sim_score)\n",
    "\n",
    "similarity_message[0:5]"
   ]
  },
  {
   "cell_type": "code",
   "execution_count": 63,
   "id": "d145ff22",
   "metadata": {},
   "outputs": [
    {
     "data": {
      "text/plain": [
       "['0.16666666666666666',\n",
       " '0.125',\n",
       " '0.125',\n",
       " '0.26666666666666666',\n",
       " '0.3076923076923077']"
      ]
     },
     "execution_count": 63,
     "metadata": {},
     "output_type": "execute_result"
    }
   ],
   "source": [
    "# 포럼\n",
    "\n",
    "import difflib\n",
    "\n",
    "to_match = 'forum'\n",
    "candidates = website_df['Domain']\n",
    "\n",
    "similarity_forum = []\n",
    "for word in candidates:\n",
    "    sim_score = str(difflib.SequenceMatcher(None, to_match, word).ratio())\n",
    "    similarity_forum.append(sim_score)\n",
    "\n",
    "similarity_forum[0:5]"
   ]
  },
  {
   "cell_type": "code",
   "execution_count": 64,
   "id": "40bcb9bc",
   "metadata": {
    "scrolled": true
   },
   "outputs": [
    {
     "data": {
      "text/plain": [
       "['0.0', '0.375', '0.375', '0.13333333333333333', '0.0']"
      ]
     },
     "execution_count": 64,
     "metadata": {},
     "output_type": "execute_result"
    }
   ],
   "source": [
    "# 성인\n",
    "\n",
    "import difflib\n",
    "\n",
    "to_match = 'adult'\n",
    "candidates = website_df['Domain']\n",
    "\n",
    "similarity_adult = []\n",
    "for word in candidates:\n",
    "    sim_score = str(difflib.SequenceMatcher(None, to_match, word).ratio())\n",
    "    similarity_adult.append(sim_score)\n",
    "\n",
    "similarity_adult[0:5]"
   ]
  },
  {
   "cell_type": "markdown",
   "id": "4c6f0150",
   "metadata": {},
   "source": [
    "### 유사도 포함한 데이터 프레임"
   ]
  },
  {
   "cell_type": "code",
   "execution_count": 65,
   "id": "df3d2e43",
   "metadata": {
    "scrolled": false
   },
   "outputs": [
    {
     "data": {
      "text/html": [
       "<div>\n",
       "<style scoped>\n",
       "    .dataframe tbody tr th:only-of-type {\n",
       "        vertical-align: middle;\n",
       "    }\n",
       "\n",
       "    .dataframe tbody tr th {\n",
       "        vertical-align: top;\n",
       "    }\n",
       "\n",
       "    .dataframe thead th {\n",
       "        text-align: right;\n",
       "    }\n",
       "</style>\n",
       "<table border=\"1\" class=\"dataframe\">\n",
       "  <thead>\n",
       "    <tr style=\"text-align: right;\">\n",
       "      <th></th>\n",
       "      <th>word_sim_Adult</th>\n",
       "      <th>word_sim_Forum</th>\n",
       "      <th>word_sim_Message</th>\n",
       "      <th>word_sim_Government</th>\n",
       "      <th>word_sim_Law</th>\n",
       "      <th>word_sim_Food</th>\n",
       "      <th>word_sim_Tech</th>\n",
       "      <th>word_sim_Computer</th>\n",
       "      <th>word_sim_Photo</th>\n",
       "      <th>word_sim_Commerce</th>\n",
       "      <th>...</th>\n",
       "      <th>word_sim_News</th>\n",
       "      <th>word_sim_Games</th>\n",
       "      <th>word_sim_Sports</th>\n",
       "      <th>word_sim_Travel</th>\n",
       "      <th>word_sim_Corporate</th>\n",
       "      <th>word_sim_Business</th>\n",
       "      <th>word_sim_Education</th>\n",
       "      <th>Domain</th>\n",
       "      <th>cleaned_website_text</th>\n",
       "      <th>Category</th>\n",
       "    </tr>\n",
       "  </thead>\n",
       "  <tbody>\n",
       "    <tr>\n",
       "      <th>0</th>\n",
       "      <td>0.0</td>\n",
       "      <td>0.16666666666666666</td>\n",
       "      <td>0.14285714285714285</td>\n",
       "      <td>0.11764705882352941</td>\n",
       "      <td>0.0</td>\n",
       "      <td>0.36363636363636365</td>\n",
       "      <td>0.0</td>\n",
       "      <td>0.13333333333333333</td>\n",
       "      <td>0.3333333333333333</td>\n",
       "      <td>0.13333333333333333</td>\n",
       "      <td>...</td>\n",
       "      <td>0.18181818181818182</td>\n",
       "      <td>0.18181818181818182</td>\n",
       "      <td>0.16666666666666666</td>\n",
       "      <td>0.0</td>\n",
       "      <td>0.25</td>\n",
       "      <td>0.4</td>\n",
       "      <td>0.25</td>\n",
       "      <td>booking</td>\n",
       "      <td>official site good hotel accommodation big sav...</td>\n",
       "      <td>Travel</td>\n",
       "    </tr>\n",
       "    <tr>\n",
       "      <th>1</th>\n",
       "      <td>0.375</td>\n",
       "      <td>0.125</td>\n",
       "      <td>0.2222222222222222</td>\n",
       "      <td>0.2857142857142857</td>\n",
       "      <td>0.14285714285714285</td>\n",
       "      <td>0.0</td>\n",
       "      <td>0.26666666666666666</td>\n",
       "      <td>0.21052631578947367</td>\n",
       "      <td>0.125</td>\n",
       "      <td>0.21052631578947367</td>\n",
       "      <td>...</td>\n",
       "      <td>0.26666666666666666</td>\n",
       "      <td>0.26666666666666666</td>\n",
       "      <td>0.25</td>\n",
       "      <td>0.7058823529411765</td>\n",
       "      <td>0.4</td>\n",
       "      <td>0.42105263157894735</td>\n",
       "      <td>0.2</td>\n",
       "      <td>travelsites</td>\n",
       "      <td>expedia hotel book sites like use vacation wor...</td>\n",
       "      <td>Travel</td>\n",
       "    </tr>\n",
       "    <tr>\n",
       "      <th>2</th>\n",
       "      <td>0.375</td>\n",
       "      <td>0.125</td>\n",
       "      <td>0.2222222222222222</td>\n",
       "      <td>0.2857142857142857</td>\n",
       "      <td>0.14285714285714285</td>\n",
       "      <td>0.0</td>\n",
       "      <td>0.26666666666666666</td>\n",
       "      <td>0.21052631578947367</td>\n",
       "      <td>0.125</td>\n",
       "      <td>0.21052631578947367</td>\n",
       "      <td>...</td>\n",
       "      <td>0.26666666666666666</td>\n",
       "      <td>0.26666666666666666</td>\n",
       "      <td>0.25</td>\n",
       "      <td>0.7058823529411765</td>\n",
       "      <td>0.4</td>\n",
       "      <td>0.42105263157894735</td>\n",
       "      <td>0.2</td>\n",
       "      <td>travelsites</td>\n",
       "      <td>tripadvisor hotel book sites like previously d...</td>\n",
       "      <td>Travel</td>\n",
       "    </tr>\n",
       "    <tr>\n",
       "      <th>3</th>\n",
       "      <td>0.13333333333333333</td>\n",
       "      <td>0.26666666666666666</td>\n",
       "      <td>0.11764705882352941</td>\n",
       "      <td>0.3</td>\n",
       "      <td>0.0</td>\n",
       "      <td>0.42857142857142855</td>\n",
       "      <td>0.0</td>\n",
       "      <td>0.2222222222222222</td>\n",
       "      <td>0.26666666666666666</td>\n",
       "      <td>0.2222222222222222</td>\n",
       "      <td>...</td>\n",
       "      <td>0.14285714285714285</td>\n",
       "      <td>0.14285714285714285</td>\n",
       "      <td>0.13333333333333333</td>\n",
       "      <td>0.0</td>\n",
       "      <td>0.21052631578947367</td>\n",
       "      <td>0.2222222222222222</td>\n",
       "      <td>0.21052631578947367</td>\n",
       "      <td>momondo.in</td>\n",
       "      <td>cheap flights search compare flights momondo f...</td>\n",
       "      <td>Travel</td>\n",
       "    </tr>\n",
       "    <tr>\n",
       "      <th>4</th>\n",
       "      <td>0.0</td>\n",
       "      <td>0.3076923076923077</td>\n",
       "      <td>0.26666666666666666</td>\n",
       "      <td>0.3333333333333333</td>\n",
       "      <td>0.0</td>\n",
       "      <td>0.3333333333333333</td>\n",
       "      <td>0.16666666666666666</td>\n",
       "      <td>0.375</td>\n",
       "      <td>0.3076923076923077</td>\n",
       "      <td>0.375</td>\n",
       "      <td>...</td>\n",
       "      <td>0.3333333333333333</td>\n",
       "      <td>0.16666666666666666</td>\n",
       "      <td>0.15384615384615385</td>\n",
       "      <td>0.14285714285714285</td>\n",
       "      <td>0.23529411764705882</td>\n",
       "      <td>0.25</td>\n",
       "      <td>0.23529411764705882</td>\n",
       "      <td>ebookers</td>\n",
       "      <td>bot create free account create free account si...</td>\n",
       "      <td>Travel</td>\n",
       "    </tr>\n",
       "  </tbody>\n",
       "</table>\n",
       "<p>5 rows × 22 columns</p>\n",
       "</div>"
      ],
      "text/plain": [
       "        word_sim_Adult       word_sim_Forum     word_sim_Message  \\\n",
       "0                  0.0  0.16666666666666666  0.14285714285714285   \n",
       "1                0.375                0.125   0.2222222222222222   \n",
       "2                0.375                0.125   0.2222222222222222   \n",
       "3  0.13333333333333333  0.26666666666666666  0.11764705882352941   \n",
       "4                  0.0   0.3076923076923077  0.26666666666666666   \n",
       "\n",
       "   word_sim_Government         word_sim_Law        word_sim_Food  \\\n",
       "0  0.11764705882352941                  0.0  0.36363636363636365   \n",
       "1   0.2857142857142857  0.14285714285714285                  0.0   \n",
       "2   0.2857142857142857  0.14285714285714285                  0.0   \n",
       "3                  0.3                  0.0  0.42857142857142855   \n",
       "4   0.3333333333333333                  0.0   0.3333333333333333   \n",
       "\n",
       "         word_sim_Tech    word_sim_Computer       word_sim_Photo  \\\n",
       "0                  0.0  0.13333333333333333   0.3333333333333333   \n",
       "1  0.26666666666666666  0.21052631578947367                0.125   \n",
       "2  0.26666666666666666  0.21052631578947367                0.125   \n",
       "3                  0.0   0.2222222222222222  0.26666666666666666   \n",
       "4  0.16666666666666666                0.375   0.3076923076923077   \n",
       "\n",
       "     word_sim_Commerce  ...        word_sim_News       word_sim_Games  \\\n",
       "0  0.13333333333333333  ...  0.18181818181818182  0.18181818181818182   \n",
       "1  0.21052631578947367  ...  0.26666666666666666  0.26666666666666666   \n",
       "2  0.21052631578947367  ...  0.26666666666666666  0.26666666666666666   \n",
       "3   0.2222222222222222  ...  0.14285714285714285  0.14285714285714285   \n",
       "4                0.375  ...   0.3333333333333333  0.16666666666666666   \n",
       "\n",
       "       word_sim_Sports      word_sim_Travel   word_sim_Corporate  \\\n",
       "0  0.16666666666666666                  0.0                 0.25   \n",
       "1                 0.25   0.7058823529411765                  0.4   \n",
       "2                 0.25   0.7058823529411765                  0.4   \n",
       "3  0.13333333333333333                  0.0  0.21052631578947367   \n",
       "4  0.15384615384615385  0.14285714285714285  0.23529411764705882   \n",
       "\n",
       "     word_sim_Business   word_sim_Education       Domain  \\\n",
       "0                  0.4                 0.25      booking   \n",
       "1  0.42105263157894735                  0.2  travelsites   \n",
       "2  0.42105263157894735                  0.2  travelsites   \n",
       "3   0.2222222222222222  0.21052631578947367   momondo.in   \n",
       "4                 0.25  0.23529411764705882     ebookers   \n",
       "\n",
       "                                cleaned_website_text Category  \n",
       "0  official site good hotel accommodation big sav...   Travel  \n",
       "1  expedia hotel book sites like use vacation wor...   Travel  \n",
       "2  tripadvisor hotel book sites like previously d...   Travel  \n",
       "3  cheap flights search compare flights momondo f...   Travel  \n",
       "4  bot create free account create free account si...   Travel  \n",
       "\n",
       "[5 rows x 22 columns]"
      ]
     },
     "execution_count": 65,
     "metadata": {},
     "output_type": "execute_result"
    }
   ],
   "source": [
    "website_df.insert(0, 'word_sim_Education', similarity_education)\n",
    "website_df.insert(0, 'word_sim_Business', similarity_business)\n",
    "website_df.insert(0, 'word_sim_Corporate', similarity_corporate)\n",
    "website_df.insert(0, 'word_sim_Travel', similarity_travel)\n",
    "website_df.insert(0, 'word_sim_Sports', similarity_sports)\n",
    "website_df.insert(0, 'word_sim_Games', similarity_games)\n",
    "website_df.insert(0, 'word_sim_News', similarity_news)\n",
    "website_df.insert(0, 'word_sim_Health', similarity_health)\n",
    "website_df.insert(0, 'word_sim_Fitness', similarity_fitness)\n",
    "website_df.insert(0, 'word_sim_Commerce', similarity_commerce)\n",
    "website_df.insert(0, 'word_sim_Photo', similarity_photo)\n",
    "website_df.insert(0, 'word_sim_Computer', similarity_computer)\n",
    "website_df.insert(0, 'word_sim_Tech', similarity_tech)\n",
    "website_df.insert(0, 'word_sim_Food', similarity_food)\n",
    "website_df.insert(0, 'word_sim_Law', similarity_law)\n",
    "website_df.insert(0, 'word_sim_Government', similarity_government)\n",
    "website_df.insert(0, 'word_sim_Message', similarity_message)\n",
    "website_df.insert(0, 'word_sim_Forum', similarity_forum)\n",
    "website_df.insert(0, 'word_sim_Adult', similarity_adult)\n",
    "\n",
    "website_df.head()"
   ]
  },
  {
   "cell_type": "markdown",
   "id": "08e044c5",
   "metadata": {},
   "source": [
    "### 유사도 float 변형 및 소수점 제거"
   ]
  },
  {
   "cell_type": "code",
   "execution_count": 66,
   "id": "e88e200c",
   "metadata": {},
   "outputs": [
    {
     "data": {
      "text/plain": [
       "word_sim_Adult          float64\n",
       "word_sim_Forum          float64\n",
       "word_sim_Message        float64\n",
       "word_sim_Government     float64\n",
       "word_sim_Law            float64\n",
       "word_sim_Food           float64\n",
       "word_sim_Tech           float64\n",
       "word_sim_Computer       float64\n",
       "word_sim_Photo          float64\n",
       "word_sim_Commerce       float64\n",
       "word_sim_Fitness        float64\n",
       "word_sim_Health         float64\n",
       "word_sim_News           float64\n",
       "word_sim_Games          float64\n",
       "word_sim_Sports         float64\n",
       "word_sim_Travel         float64\n",
       "word_sim_Corporate      float64\n",
       "word_sim_Business       float64\n",
       "word_sim_Education      float64\n",
       "Domain                   object\n",
       "cleaned_website_text     object\n",
       "Category                 object\n",
       "dtype: object"
      ]
     },
     "execution_count": 66,
     "metadata": {},
     "output_type": "execute_result"
    }
   ],
   "source": [
    "type_list = ['word_sim_Education', 'word_sim_Business', 'word_sim_Corporate', 'word_sim_Travel', 'word_sim_Sports', 'word_sim_Games', 'word_sim_News', 'word_sim_Health', 'word_sim_Fitness', 'word_sim_Commerce', 'word_sim_Photo', 'word_sim_Computer', 'word_sim_Tech', 'word_sim_Food', 'word_sim_Law', 'word_sim_Government', 'word_sim_Message', 'word_sim_Forum', 'word_sim_Adult']\n",
    "website_df[type_list] = website_df[type_list].astype('float')\n",
    "\n",
    "website_df.dtypes"
   ]
  },
  {
   "cell_type": "code",
   "execution_count": 67,
   "id": "3fcc1c6f",
   "metadata": {
    "scrolled": false
   },
   "outputs": [
    {
     "data": {
      "text/html": [
       "<div>\n",
       "<style scoped>\n",
       "    .dataframe tbody tr th:only-of-type {\n",
       "        vertical-align: middle;\n",
       "    }\n",
       "\n",
       "    .dataframe tbody tr th {\n",
       "        vertical-align: top;\n",
       "    }\n",
       "\n",
       "    .dataframe thead th {\n",
       "        text-align: right;\n",
       "    }\n",
       "</style>\n",
       "<table border=\"1\" class=\"dataframe\">\n",
       "  <thead>\n",
       "    <tr style=\"text-align: right;\">\n",
       "      <th></th>\n",
       "      <th>word_sim_Adult</th>\n",
       "      <th>word_sim_Forum</th>\n",
       "      <th>word_sim_Message</th>\n",
       "      <th>word_sim_Government</th>\n",
       "      <th>word_sim_Law</th>\n",
       "      <th>word_sim_Food</th>\n",
       "      <th>word_sim_Tech</th>\n",
       "      <th>word_sim_Computer</th>\n",
       "      <th>word_sim_Photo</th>\n",
       "      <th>word_sim_Commerce</th>\n",
       "      <th>...</th>\n",
       "      <th>word_sim_News</th>\n",
       "      <th>word_sim_Games</th>\n",
       "      <th>word_sim_Sports</th>\n",
       "      <th>word_sim_Travel</th>\n",
       "      <th>word_sim_Corporate</th>\n",
       "      <th>word_sim_Business</th>\n",
       "      <th>word_sim_Education</th>\n",
       "      <th>Domain</th>\n",
       "      <th>cleaned_website_text</th>\n",
       "      <th>Category</th>\n",
       "    </tr>\n",
       "  </thead>\n",
       "  <tbody>\n",
       "    <tr>\n",
       "      <th>0</th>\n",
       "      <td>0.000</td>\n",
       "      <td>0.167</td>\n",
       "      <td>0.143</td>\n",
       "      <td>0.118</td>\n",
       "      <td>0.000</td>\n",
       "      <td>0.364</td>\n",
       "      <td>0.000</td>\n",
       "      <td>0.133</td>\n",
       "      <td>0.333</td>\n",
       "      <td>0.133</td>\n",
       "      <td>...</td>\n",
       "      <td>0.182</td>\n",
       "      <td>0.182</td>\n",
       "      <td>0.167</td>\n",
       "      <td>0.000</td>\n",
       "      <td>0.250</td>\n",
       "      <td>0.400</td>\n",
       "      <td>0.250</td>\n",
       "      <td>booking</td>\n",
       "      <td>official site good hotel accommodation big sav...</td>\n",
       "      <td>Travel</td>\n",
       "    </tr>\n",
       "    <tr>\n",
       "      <th>1</th>\n",
       "      <td>0.375</td>\n",
       "      <td>0.125</td>\n",
       "      <td>0.222</td>\n",
       "      <td>0.286</td>\n",
       "      <td>0.143</td>\n",
       "      <td>0.000</td>\n",
       "      <td>0.267</td>\n",
       "      <td>0.211</td>\n",
       "      <td>0.125</td>\n",
       "      <td>0.211</td>\n",
       "      <td>...</td>\n",
       "      <td>0.267</td>\n",
       "      <td>0.267</td>\n",
       "      <td>0.250</td>\n",
       "      <td>0.706</td>\n",
       "      <td>0.400</td>\n",
       "      <td>0.421</td>\n",
       "      <td>0.200</td>\n",
       "      <td>travelsites</td>\n",
       "      <td>expedia hotel book sites like use vacation wor...</td>\n",
       "      <td>Travel</td>\n",
       "    </tr>\n",
       "    <tr>\n",
       "      <th>2</th>\n",
       "      <td>0.375</td>\n",
       "      <td>0.125</td>\n",
       "      <td>0.222</td>\n",
       "      <td>0.286</td>\n",
       "      <td>0.143</td>\n",
       "      <td>0.000</td>\n",
       "      <td>0.267</td>\n",
       "      <td>0.211</td>\n",
       "      <td>0.125</td>\n",
       "      <td>0.211</td>\n",
       "      <td>...</td>\n",
       "      <td>0.267</td>\n",
       "      <td>0.267</td>\n",
       "      <td>0.250</td>\n",
       "      <td>0.706</td>\n",
       "      <td>0.400</td>\n",
       "      <td>0.421</td>\n",
       "      <td>0.200</td>\n",
       "      <td>travelsites</td>\n",
       "      <td>tripadvisor hotel book sites like previously d...</td>\n",
       "      <td>Travel</td>\n",
       "    </tr>\n",
       "    <tr>\n",
       "      <th>3</th>\n",
       "      <td>0.133</td>\n",
       "      <td>0.267</td>\n",
       "      <td>0.118</td>\n",
       "      <td>0.300</td>\n",
       "      <td>0.000</td>\n",
       "      <td>0.429</td>\n",
       "      <td>0.000</td>\n",
       "      <td>0.222</td>\n",
       "      <td>0.267</td>\n",
       "      <td>0.222</td>\n",
       "      <td>...</td>\n",
       "      <td>0.143</td>\n",
       "      <td>0.143</td>\n",
       "      <td>0.133</td>\n",
       "      <td>0.000</td>\n",
       "      <td>0.211</td>\n",
       "      <td>0.222</td>\n",
       "      <td>0.211</td>\n",
       "      <td>momondo.in</td>\n",
       "      <td>cheap flights search compare flights momondo f...</td>\n",
       "      <td>Travel</td>\n",
       "    </tr>\n",
       "    <tr>\n",
       "      <th>4</th>\n",
       "      <td>0.000</td>\n",
       "      <td>0.308</td>\n",
       "      <td>0.267</td>\n",
       "      <td>0.333</td>\n",
       "      <td>0.000</td>\n",
       "      <td>0.333</td>\n",
       "      <td>0.167</td>\n",
       "      <td>0.375</td>\n",
       "      <td>0.308</td>\n",
       "      <td>0.375</td>\n",
       "      <td>...</td>\n",
       "      <td>0.333</td>\n",
       "      <td>0.167</td>\n",
       "      <td>0.154</td>\n",
       "      <td>0.143</td>\n",
       "      <td>0.235</td>\n",
       "      <td>0.250</td>\n",
       "      <td>0.235</td>\n",
       "      <td>ebookers</td>\n",
       "      <td>bot create free account create free account si...</td>\n",
       "      <td>Travel</td>\n",
       "    </tr>\n",
       "  </tbody>\n",
       "</table>\n",
       "<p>5 rows × 22 columns</p>\n",
       "</div>"
      ],
      "text/plain": [
       "   word_sim_Adult  word_sim_Forum  word_sim_Message  word_sim_Government  \\\n",
       "0           0.000           0.167             0.143                0.118   \n",
       "1           0.375           0.125             0.222                0.286   \n",
       "2           0.375           0.125             0.222                0.286   \n",
       "3           0.133           0.267             0.118                0.300   \n",
       "4           0.000           0.308             0.267                0.333   \n",
       "\n",
       "   word_sim_Law  word_sim_Food  word_sim_Tech  word_sim_Computer  \\\n",
       "0         0.000          0.364          0.000              0.133   \n",
       "1         0.143          0.000          0.267              0.211   \n",
       "2         0.143          0.000          0.267              0.211   \n",
       "3         0.000          0.429          0.000              0.222   \n",
       "4         0.000          0.333          0.167              0.375   \n",
       "\n",
       "   word_sim_Photo  word_sim_Commerce  ...  word_sim_News  word_sim_Games  \\\n",
       "0           0.333              0.133  ...          0.182           0.182   \n",
       "1           0.125              0.211  ...          0.267           0.267   \n",
       "2           0.125              0.211  ...          0.267           0.267   \n",
       "3           0.267              0.222  ...          0.143           0.143   \n",
       "4           0.308              0.375  ...          0.333           0.167   \n",
       "\n",
       "   word_sim_Sports  word_sim_Travel  word_sim_Corporate  word_sim_Business  \\\n",
       "0            0.167            0.000               0.250              0.400   \n",
       "1            0.250            0.706               0.400              0.421   \n",
       "2            0.250            0.706               0.400              0.421   \n",
       "3            0.133            0.000               0.211              0.222   \n",
       "4            0.154            0.143               0.235              0.250   \n",
       "\n",
       "   word_sim_Education       Domain  \\\n",
       "0               0.250      booking   \n",
       "1               0.200  travelsites   \n",
       "2               0.200  travelsites   \n",
       "3               0.211   momondo.in   \n",
       "4               0.235     ebookers   \n",
       "\n",
       "                                cleaned_website_text Category  \n",
       "0  official site good hotel accommodation big sav...   Travel  \n",
       "1  expedia hotel book sites like use vacation wor...   Travel  \n",
       "2  tripadvisor hotel book sites like previously d...   Travel  \n",
       "3  cheap flights search compare flights momondo f...   Travel  \n",
       "4  bot create free account create free account si...   Travel  \n",
       "\n",
       "[5 rows x 22 columns]"
      ]
     },
     "execution_count": 67,
     "metadata": {},
     "output_type": "execute_result"
    }
   ],
   "source": [
    "website_df = website_df.round(decimals=3)\n",
    "website_df.head()"
   ]
  },
  {
   "cell_type": "code",
   "execution_count": 68,
   "id": "8376e1bc",
   "metadata": {
    "scrolled": true
   },
   "outputs": [
    {
     "data": {
      "text/html": [
       "<div>\n",
       "<style scoped>\n",
       "    .dataframe tbody tr th:only-of-type {\n",
       "        vertical-align: middle;\n",
       "    }\n",
       "\n",
       "    .dataframe tbody tr th {\n",
       "        vertical-align: top;\n",
       "    }\n",
       "\n",
       "    .dataframe thead th {\n",
       "        text-align: right;\n",
       "    }\n",
       "</style>\n",
       "<table border=\"1\" class=\"dataframe\">\n",
       "  <thead>\n",
       "    <tr style=\"text-align: right;\">\n",
       "      <th></th>\n",
       "      <th>word_sim_Adult</th>\n",
       "      <th>word_sim_Forum</th>\n",
       "      <th>word_sim_Message</th>\n",
       "      <th>word_sim_Government</th>\n",
       "      <th>word_sim_Law</th>\n",
       "      <th>word_sim_Food</th>\n",
       "      <th>word_sim_Tech</th>\n",
       "      <th>word_sim_Computer</th>\n",
       "      <th>word_sim_Photo</th>\n",
       "      <th>word_sim_Commerce</th>\n",
       "      <th>...</th>\n",
       "      <th>word_sim_Games</th>\n",
       "      <th>word_sim_Sports</th>\n",
       "      <th>word_sim_Travel</th>\n",
       "      <th>word_sim_Corporate</th>\n",
       "      <th>word_sim_Business</th>\n",
       "      <th>word_sim_Education</th>\n",
       "      <th>Domain</th>\n",
       "      <th>cleaned_website_text</th>\n",
       "      <th>Category</th>\n",
       "      <th>category_id</th>\n",
       "    </tr>\n",
       "  </thead>\n",
       "  <tbody>\n",
       "    <tr>\n",
       "      <th>0</th>\n",
       "      <td>0.000</td>\n",
       "      <td>0.167</td>\n",
       "      <td>0.143</td>\n",
       "      <td>0.118</td>\n",
       "      <td>0.000</td>\n",
       "      <td>0.364</td>\n",
       "      <td>0.000</td>\n",
       "      <td>0.133</td>\n",
       "      <td>0.333</td>\n",
       "      <td>0.133</td>\n",
       "      <td>...</td>\n",
       "      <td>0.182</td>\n",
       "      <td>0.167</td>\n",
       "      <td>0.000</td>\n",
       "      <td>0.250</td>\n",
       "      <td>0.400</td>\n",
       "      <td>0.250</td>\n",
       "      <td>booking</td>\n",
       "      <td>official site good hotel accommodation big sav...</td>\n",
       "      <td>Travel</td>\n",
       "      <td>0</td>\n",
       "    </tr>\n",
       "    <tr>\n",
       "      <th>1</th>\n",
       "      <td>0.375</td>\n",
       "      <td>0.125</td>\n",
       "      <td>0.222</td>\n",
       "      <td>0.286</td>\n",
       "      <td>0.143</td>\n",
       "      <td>0.000</td>\n",
       "      <td>0.267</td>\n",
       "      <td>0.211</td>\n",
       "      <td>0.125</td>\n",
       "      <td>0.211</td>\n",
       "      <td>...</td>\n",
       "      <td>0.267</td>\n",
       "      <td>0.250</td>\n",
       "      <td>0.706</td>\n",
       "      <td>0.400</td>\n",
       "      <td>0.421</td>\n",
       "      <td>0.200</td>\n",
       "      <td>travelsites</td>\n",
       "      <td>expedia hotel book sites like use vacation wor...</td>\n",
       "      <td>Travel</td>\n",
       "      <td>0</td>\n",
       "    </tr>\n",
       "    <tr>\n",
       "      <th>2</th>\n",
       "      <td>0.375</td>\n",
       "      <td>0.125</td>\n",
       "      <td>0.222</td>\n",
       "      <td>0.286</td>\n",
       "      <td>0.143</td>\n",
       "      <td>0.000</td>\n",
       "      <td>0.267</td>\n",
       "      <td>0.211</td>\n",
       "      <td>0.125</td>\n",
       "      <td>0.211</td>\n",
       "      <td>...</td>\n",
       "      <td>0.267</td>\n",
       "      <td>0.250</td>\n",
       "      <td>0.706</td>\n",
       "      <td>0.400</td>\n",
       "      <td>0.421</td>\n",
       "      <td>0.200</td>\n",
       "      <td>travelsites</td>\n",
       "      <td>tripadvisor hotel book sites like previously d...</td>\n",
       "      <td>Travel</td>\n",
       "      <td>0</td>\n",
       "    </tr>\n",
       "    <tr>\n",
       "      <th>3</th>\n",
       "      <td>0.133</td>\n",
       "      <td>0.267</td>\n",
       "      <td>0.118</td>\n",
       "      <td>0.300</td>\n",
       "      <td>0.000</td>\n",
       "      <td>0.429</td>\n",
       "      <td>0.000</td>\n",
       "      <td>0.222</td>\n",
       "      <td>0.267</td>\n",
       "      <td>0.222</td>\n",
       "      <td>...</td>\n",
       "      <td>0.143</td>\n",
       "      <td>0.133</td>\n",
       "      <td>0.000</td>\n",
       "      <td>0.211</td>\n",
       "      <td>0.222</td>\n",
       "      <td>0.211</td>\n",
       "      <td>momondo.in</td>\n",
       "      <td>cheap flights search compare flights momondo f...</td>\n",
       "      <td>Travel</td>\n",
       "      <td>0</td>\n",
       "    </tr>\n",
       "    <tr>\n",
       "      <th>4</th>\n",
       "      <td>0.000</td>\n",
       "      <td>0.308</td>\n",
       "      <td>0.267</td>\n",
       "      <td>0.333</td>\n",
       "      <td>0.000</td>\n",
       "      <td>0.333</td>\n",
       "      <td>0.167</td>\n",
       "      <td>0.375</td>\n",
       "      <td>0.308</td>\n",
       "      <td>0.375</td>\n",
       "      <td>...</td>\n",
       "      <td>0.167</td>\n",
       "      <td>0.154</td>\n",
       "      <td>0.143</td>\n",
       "      <td>0.235</td>\n",
       "      <td>0.250</td>\n",
       "      <td>0.235</td>\n",
       "      <td>ebookers</td>\n",
       "      <td>bot create free account create free account si...</td>\n",
       "      <td>Travel</td>\n",
       "      <td>0</td>\n",
       "    </tr>\n",
       "  </tbody>\n",
       "</table>\n",
       "<p>5 rows × 23 columns</p>\n",
       "</div>"
      ],
      "text/plain": [
       "   word_sim_Adult  word_sim_Forum  word_sim_Message  word_sim_Government  \\\n",
       "0           0.000           0.167             0.143                0.118   \n",
       "1           0.375           0.125             0.222                0.286   \n",
       "2           0.375           0.125             0.222                0.286   \n",
       "3           0.133           0.267             0.118                0.300   \n",
       "4           0.000           0.308             0.267                0.333   \n",
       "\n",
       "   word_sim_Law  word_sim_Food  word_sim_Tech  word_sim_Computer  \\\n",
       "0         0.000          0.364          0.000              0.133   \n",
       "1         0.143          0.000          0.267              0.211   \n",
       "2         0.143          0.000          0.267              0.211   \n",
       "3         0.000          0.429          0.000              0.222   \n",
       "4         0.000          0.333          0.167              0.375   \n",
       "\n",
       "   word_sim_Photo  word_sim_Commerce  ...  word_sim_Games  word_sim_Sports  \\\n",
       "0           0.333              0.133  ...           0.182            0.167   \n",
       "1           0.125              0.211  ...           0.267            0.250   \n",
       "2           0.125              0.211  ...           0.267            0.250   \n",
       "3           0.267              0.222  ...           0.143            0.133   \n",
       "4           0.308              0.375  ...           0.167            0.154   \n",
       "\n",
       "   word_sim_Travel  word_sim_Corporate  word_sim_Business  word_sim_Education  \\\n",
       "0            0.000               0.250              0.400               0.250   \n",
       "1            0.706               0.400              0.421               0.200   \n",
       "2            0.706               0.400              0.421               0.200   \n",
       "3            0.000               0.211              0.222               0.211   \n",
       "4            0.143               0.235              0.250               0.235   \n",
       "\n",
       "        Domain                               cleaned_website_text  Category  \\\n",
       "0      booking  official site good hotel accommodation big sav...    Travel   \n",
       "1  travelsites  expedia hotel book sites like use vacation wor...    Travel   \n",
       "2  travelsites  tripadvisor hotel book sites like previously d...    Travel   \n",
       "3   momondo.in  cheap flights search compare flights momondo f...    Travel   \n",
       "4     ebookers  bot create free account create free account si...    Travel   \n",
       "\n",
       "  category_id  \n",
       "0           0  \n",
       "1           0  \n",
       "2           0  \n",
       "3           0  \n",
       "4           0  \n",
       "\n",
       "[5 rows x 23 columns]"
      ]
     },
     "execution_count": 68,
     "metadata": {},
     "output_type": "execute_result"
    }
   ],
   "source": [
    "website_df['category_id'] = website_df['Category'].factorize()[0]\n",
    "category_id_df = website_df[['Category', 'category_id']].drop_duplicates()\n",
    "\n",
    "category_to_id = dict(category_id_df.values)\n",
    "id_to_category = dict(category_id_df[['category_id', 'Category']].values)\n",
    "\n",
    "website_df.head()"
   ]
  },
  {
   "cell_type": "code",
   "execution_count": 69,
   "id": "5b0a364b",
   "metadata": {},
   "outputs": [
    {
     "data": {
      "text/html": [
       "<div>\n",
       "<style scoped>\n",
       "    .dataframe tbody tr th:only-of-type {\n",
       "        vertical-align: middle;\n",
       "    }\n",
       "\n",
       "    .dataframe tbody tr th {\n",
       "        vertical-align: top;\n",
       "    }\n",
       "\n",
       "    .dataframe thead th {\n",
       "        text-align: right;\n",
       "    }\n",
       "</style>\n",
       "<table border=\"1\" class=\"dataframe\">\n",
       "  <thead>\n",
       "    <tr style=\"text-align: right;\">\n",
       "      <th></th>\n",
       "      <th>Category</th>\n",
       "      <th>category_id</th>\n",
       "    </tr>\n",
       "  </thead>\n",
       "  <tbody>\n",
       "    <tr>\n",
       "      <th>0</th>\n",
       "      <td>Travel</td>\n",
       "      <td>0</td>\n",
       "    </tr>\n",
       "    <tr>\n",
       "      <th>36</th>\n",
       "      <td>Social Networking and Messaging</td>\n",
       "      <td>1</td>\n",
       "    </tr>\n",
       "    <tr>\n",
       "      <th>43</th>\n",
       "      <td>News</td>\n",
       "      <td>2</td>\n",
       "    </tr>\n",
       "    <tr>\n",
       "      <th>107</th>\n",
       "      <td>Streaming Services</td>\n",
       "      <td>3</td>\n",
       "    </tr>\n",
       "    <tr>\n",
       "      <th>213</th>\n",
       "      <td>Sports</td>\n",
       "      <td>4</td>\n",
       "    </tr>\n",
       "    <tr>\n",
       "      <th>398</th>\n",
       "      <td>Photography</td>\n",
       "      <td>5</td>\n",
       "    </tr>\n",
       "    <tr>\n",
       "      <th>586</th>\n",
       "      <td>Law and Government</td>\n",
       "      <td>6</td>\n",
       "    </tr>\n",
       "    <tr>\n",
       "      <th>670</th>\n",
       "      <td>Health and Fitness</td>\n",
       "      <td>7</td>\n",
       "    </tr>\n",
       "    <tr>\n",
       "      <th>768</th>\n",
       "      <td>Games</td>\n",
       "      <td>8</td>\n",
       "    </tr>\n",
       "    <tr>\n",
       "      <th>810</th>\n",
       "      <td>E-Commerce</td>\n",
       "      <td>9</td>\n",
       "    </tr>\n",
       "    <tr>\n",
       "      <th>867</th>\n",
       "      <td>Forums</td>\n",
       "      <td>10</td>\n",
       "    </tr>\n",
       "    <tr>\n",
       "      <th>883</th>\n",
       "      <td>Food</td>\n",
       "      <td>11</td>\n",
       "    </tr>\n",
       "    <tr>\n",
       "      <th>977</th>\n",
       "      <td>Education</td>\n",
       "      <td>12</td>\n",
       "    </tr>\n",
       "    <tr>\n",
       "      <th>1190</th>\n",
       "      <td>Computers and Technology</td>\n",
       "      <td>13</td>\n",
       "    </tr>\n",
       "    <tr>\n",
       "      <th>1197</th>\n",
       "      <td>Business/Corporate</td>\n",
       "      <td>14</td>\n",
       "    </tr>\n",
       "    <tr>\n",
       "      <th>1392</th>\n",
       "      <td>Adult</td>\n",
       "      <td>15</td>\n",
       "    </tr>\n",
       "  </tbody>\n",
       "</table>\n",
       "</div>"
      ],
      "text/plain": [
       "                             Category  category_id\n",
       "0                              Travel            0\n",
       "36    Social Networking and Messaging            1\n",
       "43                               News            2\n",
       "107                Streaming Services            3\n",
       "213                            Sports            4\n",
       "398                       Photography            5\n",
       "586                Law and Government            6\n",
       "670                Health and Fitness            7\n",
       "768                             Games            8\n",
       "810                        E-Commerce            9\n",
       "867                            Forums           10\n",
       "883                              Food           11\n",
       "977                         Education           12\n",
       "1190         Computers and Technology           13\n",
       "1197               Business/Corporate           14\n",
       "1392                            Adult           15"
      ]
     },
     "execution_count": 69,
     "metadata": {},
     "output_type": "execute_result"
    }
   ],
   "source": [
    "category_id_df"
   ]
  },
  {
   "cell_type": "code",
   "execution_count": 70,
   "id": "46ca1525",
   "metadata": {
    "scrolled": true
   },
   "outputs": [
    {
     "data": {
      "text/plain": [
       "12    0.0810\n",
       "14    0.0774\n",
       "0     0.0760\n",
       "3     0.0746\n",
       "4     0.0739\n",
       "9     0.0724\n",
       "8     0.0696\n",
       "2     0.0682\n",
       "7     0.0682\n",
       "5     0.0661\n",
       "13    0.0661\n",
       "11    0.0653\n",
       "6     0.0597\n",
       "1     0.0589\n",
       "10    0.0114\n",
       "15    0.0114\n",
       "Name: category_id, dtype: float64"
      ]
     },
     "execution_count": 70,
     "metadata": {},
     "output_type": "execute_result"
    }
   ],
   "source": [
    "website_df['category_id'].value_counts(normalize=True).round(4)"
   ]
  },
  {
   "cell_type": "code",
   "execution_count": 71,
   "id": "cbf33e07",
   "metadata": {
    "scrolled": false
   },
   "outputs": [
    {
     "data": {
      "text/html": [
       "<div>\n",
       "<style scoped>\n",
       "    .dataframe tbody tr th:only-of-type {\n",
       "        vertical-align: middle;\n",
       "    }\n",
       "\n",
       "    .dataframe tbody tr th {\n",
       "        vertical-align: top;\n",
       "    }\n",
       "\n",
       "    .dataframe thead th {\n",
       "        text-align: right;\n",
       "    }\n",
       "</style>\n",
       "<table border=\"1\" class=\"dataframe\">\n",
       "  <thead>\n",
       "    <tr style=\"text-align: right;\">\n",
       "      <th></th>\n",
       "      <th>word_sim_Adult</th>\n",
       "      <th>word_sim_Forum</th>\n",
       "      <th>word_sim_Message</th>\n",
       "      <th>word_sim_Government</th>\n",
       "      <th>word_sim_Law</th>\n",
       "      <th>word_sim_Food</th>\n",
       "      <th>word_sim_Tech</th>\n",
       "      <th>word_sim_Computer</th>\n",
       "      <th>word_sim_Photo</th>\n",
       "      <th>word_sim_Commerce</th>\n",
       "      <th>word_sim_Fitness</th>\n",
       "      <th>word_sim_Health</th>\n",
       "      <th>word_sim_News</th>\n",
       "      <th>word_sim_Games</th>\n",
       "      <th>word_sim_Sports</th>\n",
       "      <th>word_sim_Travel</th>\n",
       "      <th>word_sim_Corporate</th>\n",
       "      <th>word_sim_Business</th>\n",
       "      <th>word_sim_Education</th>\n",
       "      <th>category_id</th>\n",
       "    </tr>\n",
       "  </thead>\n",
       "  <tbody>\n",
       "    <tr>\n",
       "      <th>0</th>\n",
       "      <td>0.000</td>\n",
       "      <td>0.167</td>\n",
       "      <td>0.143</td>\n",
       "      <td>0.118</td>\n",
       "      <td>0.000</td>\n",
       "      <td>0.364</td>\n",
       "      <td>0.000</td>\n",
       "      <td>0.133</td>\n",
       "      <td>0.333</td>\n",
       "      <td>0.133</td>\n",
       "      <td>0.286</td>\n",
       "      <td>0.000</td>\n",
       "      <td>0.182</td>\n",
       "      <td>0.182</td>\n",
       "      <td>0.167</td>\n",
       "      <td>0.000</td>\n",
       "      <td>0.250</td>\n",
       "      <td>0.400</td>\n",
       "      <td>0.250</td>\n",
       "      <td>0</td>\n",
       "    </tr>\n",
       "    <tr>\n",
       "      <th>1</th>\n",
       "      <td>0.375</td>\n",
       "      <td>0.125</td>\n",
       "      <td>0.222</td>\n",
       "      <td>0.286</td>\n",
       "      <td>0.143</td>\n",
       "      <td>0.000</td>\n",
       "      <td>0.267</td>\n",
       "      <td>0.211</td>\n",
       "      <td>0.125</td>\n",
       "      <td>0.211</td>\n",
       "      <td>0.444</td>\n",
       "      <td>0.353</td>\n",
       "      <td>0.267</td>\n",
       "      <td>0.267</td>\n",
       "      <td>0.250</td>\n",
       "      <td>0.706</td>\n",
       "      <td>0.400</td>\n",
       "      <td>0.421</td>\n",
       "      <td>0.200</td>\n",
       "      <td>0</td>\n",
       "    </tr>\n",
       "    <tr>\n",
       "      <th>2</th>\n",
       "      <td>0.375</td>\n",
       "      <td>0.125</td>\n",
       "      <td>0.222</td>\n",
       "      <td>0.286</td>\n",
       "      <td>0.143</td>\n",
       "      <td>0.000</td>\n",
       "      <td>0.267</td>\n",
       "      <td>0.211</td>\n",
       "      <td>0.125</td>\n",
       "      <td>0.211</td>\n",
       "      <td>0.444</td>\n",
       "      <td>0.353</td>\n",
       "      <td>0.267</td>\n",
       "      <td>0.267</td>\n",
       "      <td>0.250</td>\n",
       "      <td>0.706</td>\n",
       "      <td>0.400</td>\n",
       "      <td>0.421</td>\n",
       "      <td>0.200</td>\n",
       "      <td>0</td>\n",
       "    </tr>\n",
       "    <tr>\n",
       "      <th>3</th>\n",
       "      <td>0.133</td>\n",
       "      <td>0.267</td>\n",
       "      <td>0.118</td>\n",
       "      <td>0.300</td>\n",
       "      <td>0.000</td>\n",
       "      <td>0.429</td>\n",
       "      <td>0.000</td>\n",
       "      <td>0.222</td>\n",
       "      <td>0.267</td>\n",
       "      <td>0.222</td>\n",
       "      <td>0.235</td>\n",
       "      <td>0.000</td>\n",
       "      <td>0.143</td>\n",
       "      <td>0.143</td>\n",
       "      <td>0.133</td>\n",
       "      <td>0.000</td>\n",
       "      <td>0.211</td>\n",
       "      <td>0.222</td>\n",
       "      <td>0.211</td>\n",
       "      <td>0</td>\n",
       "    </tr>\n",
       "    <tr>\n",
       "      <th>4</th>\n",
       "      <td>0.000</td>\n",
       "      <td>0.308</td>\n",
       "      <td>0.267</td>\n",
       "      <td>0.333</td>\n",
       "      <td>0.000</td>\n",
       "      <td>0.333</td>\n",
       "      <td>0.167</td>\n",
       "      <td>0.375</td>\n",
       "      <td>0.308</td>\n",
       "      <td>0.375</td>\n",
       "      <td>0.267</td>\n",
       "      <td>0.143</td>\n",
       "      <td>0.333</td>\n",
       "      <td>0.167</td>\n",
       "      <td>0.154</td>\n",
       "      <td>0.143</td>\n",
       "      <td>0.235</td>\n",
       "      <td>0.250</td>\n",
       "      <td>0.235</td>\n",
       "      <td>0</td>\n",
       "    </tr>\n",
       "  </tbody>\n",
       "</table>\n",
       "</div>"
      ],
      "text/plain": [
       "   word_sim_Adult  word_sim_Forum  word_sim_Message  word_sim_Government  \\\n",
       "0           0.000           0.167             0.143                0.118   \n",
       "1           0.375           0.125             0.222                0.286   \n",
       "2           0.375           0.125             0.222                0.286   \n",
       "3           0.133           0.267             0.118                0.300   \n",
       "4           0.000           0.308             0.267                0.333   \n",
       "\n",
       "   word_sim_Law  word_sim_Food  word_sim_Tech  word_sim_Computer  \\\n",
       "0         0.000          0.364          0.000              0.133   \n",
       "1         0.143          0.000          0.267              0.211   \n",
       "2         0.143          0.000          0.267              0.211   \n",
       "3         0.000          0.429          0.000              0.222   \n",
       "4         0.000          0.333          0.167              0.375   \n",
       "\n",
       "   word_sim_Photo  word_sim_Commerce  word_sim_Fitness  word_sim_Health  \\\n",
       "0           0.333              0.133             0.286            0.000   \n",
       "1           0.125              0.211             0.444            0.353   \n",
       "2           0.125              0.211             0.444            0.353   \n",
       "3           0.267              0.222             0.235            0.000   \n",
       "4           0.308              0.375             0.267            0.143   \n",
       "\n",
       "   word_sim_News  word_sim_Games  word_sim_Sports  word_sim_Travel  \\\n",
       "0          0.182           0.182            0.167            0.000   \n",
       "1          0.267           0.267            0.250            0.706   \n",
       "2          0.267           0.267            0.250            0.706   \n",
       "3          0.143           0.143            0.133            0.000   \n",
       "4          0.333           0.167            0.154            0.143   \n",
       "\n",
       "   word_sim_Corporate  word_sim_Business  word_sim_Education  category_id  \n",
       "0               0.250              0.400               0.250            0  \n",
       "1               0.400              0.421               0.200            0  \n",
       "2               0.400              0.421               0.200            0  \n",
       "3               0.211              0.222               0.211            0  \n",
       "4               0.235              0.250               0.235            0  "
      ]
     },
     "execution_count": 71,
     "metadata": {},
     "output_type": "execute_result"
    }
   ],
   "source": [
    "website_df.drop('Domain', axis=1, inplace=True)\n",
    "website_df.drop('cleaned_website_text', axis=1, inplace=True)\n",
    "website_df.drop('Category', axis=1, inplace=True)\n",
    "\n",
    "website_df.head()"
   ]
  },
  {
   "cell_type": "markdown",
   "id": "2d879fc3",
   "metadata": {},
   "source": [
    "## 여러 그래프로 유사도 특징 확인하기"
   ]
  },
  {
   "cell_type": "code",
   "execution_count": 72,
   "id": "3dd4045e",
   "metadata": {},
   "outputs": [],
   "source": [
    "from sklearn.model_selection import train_test_split\n",
    "\n",
    "def get_train_test_dataset(df=None):\n",
    "    df_copy = df\n",
    "    X_features = df_copy.iloc[:, :-1]\n",
    "    y_target = df_copy.iloc[:, -1]\n",
    "    \n",
    "    X_train, X_test, y_train, y_test = \\\n",
    "    train_test_split(X_features, y_target, test_size=0.3, random_state=0, stratify=y_target)\n",
    "    \n",
    "    return X_train, X_test, y_train, y_test\n",
    "\n",
    "X_train, X_test, y_train, y_test = get_train_test_dataset(website_df)"
   ]
  },
  {
   "cell_type": "code",
   "execution_count": 73,
   "id": "841200b4",
   "metadata": {
    "scrolled": true
   },
   "outputs": [
    {
     "name": "stdout",
     "output_type": "stream",
     "text": [
      "학습 데이터 레이블 값 비율\n",
      "12    8.121827\n",
      "14    7.715736\n",
      "0     7.614213\n",
      "3     7.512690\n",
      "4     7.411168\n",
      "9     7.208122\n",
      "8     7.005076\n",
      "7     6.802030\n",
      "2     6.802030\n",
      "5     6.598985\n",
      "13    6.598985\n",
      "11    6.497462\n",
      "6     5.989848\n",
      "1     5.888325\n",
      "15    1.116751\n",
      "10    1.116751\n",
      "Name: category_id, dtype: float64 \n",
      "\n",
      "테스트 데이터 레이블 값 비율\n",
      "12    8.037825\n",
      "14    7.801418\n",
      "0     7.565012\n",
      "3     7.328605\n",
      "9     7.328605\n",
      "4     7.328605\n",
      "7     6.855792\n",
      "2     6.855792\n",
      "8     6.855792\n",
      "13    6.619385\n",
      "5     6.619385\n",
      "11    6.619385\n",
      "6     5.910165\n",
      "1     5.910165\n",
      "15    1.182033\n",
      "10    1.182033\n",
      "Name: category_id, dtype: float64\n"
     ]
    }
   ],
   "source": [
    "print('학습 데이터 레이블 값 비율')\n",
    "print(y_train.value_counts() / y_train.shape[0] * 100, '\\n')\n",
    "\n",
    "print('테스트 데이터 레이블 값 비율')\n",
    "print(y_test.value_counts() / y_test.shape[0] * 100)"
   ]
  },
  {
   "cell_type": "code",
   "execution_count": 74,
   "id": "cecaae38",
   "metadata": {},
   "outputs": [],
   "source": [
    "from sklearn.metrics import accuracy_score, precision_score, recall_score, confusion_matrix, f1_score, roc_auc_score\n",
    "\n",
    "def get_clf_eval(y_test, pred=None, pred_proba=None):\n",
    "    precision = precision_score(y_test, pred, average= 'macro')\n",
    "    recall = recall_score(y_test, pred, average= 'macro')\n",
    "    f1 = f1_score(y_test, pred, average= 'macro')\n",
    "\n",
    "    print('정밀도: {0:.4f}, 재현률: {1:.4f}, F1: {2:.4f}'\\\n",
    "          .format(precision, recall, f1))"
   ]
  },
  {
   "cell_type": "code",
   "execution_count": 75,
   "id": "512a6233",
   "metadata": {},
   "outputs": [
    {
     "name": "stdout",
     "output_type": "stream",
     "text": [
      "정밀도: 0.2067, 재현률: 0.2417, F1: 0.2073\n"
     ]
    },
    {
     "name": "stderr",
     "output_type": "stream",
     "text": [
      "C:\\Users\\hmins\\anaconda3\\lib\\site-packages\\sklearn\\metrics\\_classification.py:1344: UndefinedMetricWarning: Precision is ill-defined and being set to 0.0 in labels with no predicted samples. Use `zero_division` parameter to control this behavior.\n",
      "  _warn_prf(average, modifier, msg_start, len(result))\n"
     ]
    }
   ],
   "source": [
    "from sklearn.linear_model import LogisticRegression\n",
    "\n",
    "lr_clf = LogisticRegression(max_iter=1000)\n",
    "lr_clf.fit(X_train, y_train)\n",
    "\n",
    "# lr_pred : X_test를 이용해서 나온 레이블 값 모음, ex) [0,0,0,0,0,1,0,0,1 ...]\n",
    "lr_pred = lr_clf.predict(X_test)\n",
    "lr_pred_proba = lr_clf.predict_proba(X_test)[:, 1]\n",
    "\n",
    "get_clf_eval(y_test, lr_pred, lr_pred_proba)"
   ]
  }
 ],
 "metadata": {
  "kernelspec": {
   "display_name": "Python 3 (ipykernel)",
   "language": "python",
   "name": "python3"
  },
  "language_info": {
   "codemirror_mode": {
    "name": "ipython",
    "version": 3
   },
   "file_extension": ".py",
   "mimetype": "text/x-python",
   "name": "python",
   "nbconvert_exporter": "python",
   "pygments_lexer": "ipython3",
   "version": "3.9.7"
  }
 },
 "nbformat": 4,
 "nbformat_minor": 5
}
